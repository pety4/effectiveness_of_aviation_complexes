{
 "cells": [
  {
   "cell_type": "code",
   "execution_count": 134,
   "metadata": {},
   "outputs": [],
   "source": [
    "import numpy as np\n",
    "from IPython.display import Markdown"
   ]
  },
  {
   "cell_type": "markdown",
   "metadata": {},
   "source": [
    "Дано:"
   ]
  },
  {
   "cell_type": "code",
   "execution_count": 135,
   "metadata": {},
   "outputs": [
    {
     "data": {
      "text/markdown": [
       "\n",
       "$N_1/N_2=0.5\\\\$\n",
       "$\\lambda_1=0.5\\\\$\n",
       "$\\lambda_2=0.25\\\\$\n",
       "$p_1=0.7\\\\$\n",
       "$p_2=0.5$\n"
      ],
      "text/plain": [
       "<IPython.core.display.Markdown object>"
      ]
     },
     "execution_count": 135,
     "metadata": {},
     "output_type": "execute_result"
    }
   ],
   "source": [
    "N_1_N_2=0.5\n",
    "lambda_1=0.5\n",
    "lambda_2=0.25\n",
    "p_1=0.7\n",
    "p_2=0.5\n",
    "Markdown(rf\"\"\"\n",
    "$N_1/N_2={N_1_N_2}\\\\$\n",
    "$\\lambda_1={lambda_1}\\\\$\n",
    "$\\lambda_2={lambda_2}\\\\$\n",
    "$p_1={p_1}\\\\$\n",
    "$p_2={p_2}$\n",
    "\"\"\")"
   ]
  },
  {
   "cell_type": "code",
   "execution_count": 136,
   "metadata": {},
   "outputs": [
    {
     "data": {
      "text/markdown": [
       "\n",
       "$\\Lambda_1=0.5*0.7=0.35\\\\$\n",
       "$\\Lambda_2=0.25*0.5=0.125\\\\$\n",
       "$\\chi=0.5*\\sqrt (0.35/0.125)=0.837\\\\$\n",
       "$u_1=0.35*0.5=0.175\\\\$\n",
       "$u_2=0.125/0.5=0.25\\\\$\n",
       "$\\~t=\\sqrt(0.35*0.125)=0.209t$\n"
      ],
      "text/plain": [
       "<IPython.core.display.Markdown object>"
      ]
     },
     "execution_count": 136,
     "metadata": {},
     "output_type": "execute_result"
    }
   ],
   "source": [
    "Lambda_1=lambda_1*p_1\n",
    "Lambda_2=lambda_2*p_2\n",
    "chi=np.round(N_1_N_2*np.sqrt(Lambda_1/Lambda_2),3)\n",
    "u_1=Lambda_1*N_1_N_2\n",
    "u_2=Lambda_2/N_1_N_2\n",
    "k_tilda_t=np.round(np.sqrt(Lambda_1*Lambda_2),3)\n",
    "Markdown(rf\"\"\"\n",
    "$\\Lambda_1={lambda_1}*{p_1}={Lambda_1}\\\\$\n",
    "$\\Lambda_2={lambda_2}*{p_2}={Lambda_2}\\\\$\n",
    "$\\chi={N_1_N_2}*\\sqrt ({Lambda_1}/{Lambda_2})={chi}\\\\$\n",
    "$u_1={Lambda_1}*{N_1_N_2}={u_1}\\\\$\n",
    "$u_2={Lambda_2}/{N_1_N_2}={u_2}\\\\$\n",
    "$\\~t=\\sqrt({Lambda_1}*{Lambda_2})={k_tilda_t}t$\n",
    "\"\"\")"
   ]
  },
  {
   "cell_type": "code",
   "execution_count": 137,
   "metadata": {},
   "outputs": [
    {
     "name": "stdout",
     "output_type": "stream",
     "text": [
      "Победит сторона №2\n"
     ]
    }
   ],
   "source": [
    "if chi>1:\n",
    "    print(\"Победит сторона №1\")\n",
    "elif chi<1:\n",
    "    print(\"Победит сторона №2\")\n",
    "else:\n",
    "    print(\"Ничья\")"
   ]
  },
  {
   "cell_type": "markdown",
   "metadata": {},
   "source": [
    "Если побеждает сторона №1 решите уравнение:\n",
    "$$ch(\\~t)-\\chi sh(\\~t)=0$$\n",
    "Если побеждает сторона №2 решите уравнение:\n",
    "$$ch(\\~t)-\\frac{1}{\\chi}sh(\\~t)=0$$"
   ]
  },
  {
   "cell_type": "markdown",
   "metadata": {},
   "source": [
    "Введите найденное значение $\\~t$"
   ]
  },
  {
   "cell_type": "code",
   "execution_count": 138,
   "metadata": {},
   "outputs": [],
   "source": [
    "tilda_t=float(input())"
   ]
  },
  {
   "cell_type": "code",
   "execution_count": 139,
   "metadata": {},
   "outputs": [
    {
     "data": {
      "text/markdown": [
       "\n",
       "$\\~t=1.211$\n"
      ],
      "text/plain": [
       "<IPython.core.display.Markdown object>"
      ]
     },
     "execution_count": 139,
     "metadata": {},
     "output_type": "execute_result"
    }
   ],
   "source": [
    "Markdown(rf\"\"\"\n",
    "$\\~t={tilda_t}$\n",
    "\"\"\")"
   ]
  },
  {
   "cell_type": "code",
   "execution_count": 142,
   "metadata": {},
   "outputs": [
    {
     "data": {
      "text/markdown": [
       "\n",
       "Продолжительность боестолкновения:$\\\\$\n",
       "$t=5.79 (мин)\\\\$\n",
       "Численность стороны №1 к концу столкновения:$\\\\$\n",
       "$\\mu_1=0.0\\\\$\n",
       "Потери стороны №1:$\\\\$\n",
       "$100.0\\\\$\n",
       "Численность стороны №2 к концу столкновения:$\\\\$\n",
       "$\\mu_2=0.547\\\\$\n",
       "Потери стороны №2:$\\\\$\n",
       "$45.3$\n"
      ],
      "text/plain": [
       "<IPython.core.display.Markdown object>"
      ]
     },
     "execution_count": 142,
     "metadata": {},
     "output_type": "execute_result"
    }
   ],
   "source": [
    "t=np.round(tilda_t/k_tilda_t,2)\n",
    "mu_2=np.round(np.cosh(tilda_t)-chi*np.sinh(tilda_t),3)\n",
    "mu_1=np.round(np.cosh(tilda_t)-(1/chi)*np.sinh(tilda_t),3)\n",
    "Markdown(rf\"\"\"\n",
    "Продолжительность боестолкновения:$\\\\$\n",
    "$t={t} (мин)\\\\$\n",
    "Численность стороны №1 к концу столкновения:$\\\\$\n",
    "$\\mu_1={mu_1}\\\\$\n",
    "Потери стороны №1:$\\\\$\n",
    "${100-mu_1*100}\\\\$\n",
    "Численность стороны №2 к концу столкновения:$\\\\$\n",
    "$\\mu_2={mu_2}\\\\$\n",
    "Потери стороны №2:$\\\\$\n",
    "${100-mu_2*100}$\n",
    "\"\"\")"
   ]
  }
 ],
 "metadata": {
  "kernelspec": {
   "display_name": "Python 3",
   "language": "python",
   "name": "python3"
  },
  "language_info": {
   "name": "python",
   "version": "3.12.2"
  }
 },
 "nbformat": 4,
 "nbformat_minor": 2
}
